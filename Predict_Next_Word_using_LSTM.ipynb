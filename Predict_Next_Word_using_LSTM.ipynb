{
  "nbformat": 4,
  "nbformat_minor": 0,
  "metadata": {
    "colab": {
      "provenance": []
    },
    "kernelspec": {
      "name": "python3",
      "display_name": "Python 3"
    },
    "language_info": {
      "name": "python"
    }
  },
  "cells": [
    {
      "cell_type": "markdown",
      "source": [
        "<h2><b>Predicting Next word/Sentence using LSTM</b></h2>\n",
        "In this assignment, I try to add some comments to explain each and every line of code. We also have other methods to perform this task like RNN or transformers, but i perfer lstm, no doubht they take some time on training but they give us some batter results and complete our requirement specifically for this problem.\n",
        "\n",
        "<img src=\"https://miro.medium.com/max/1400/1*7cMfenu76BZCzdKWCfBABA.png\" alt=\"LSTM\" width=\"350\" height=\"300\">"
      ],
      "metadata": {
        "id": "cnLK7pGrSMYk"
      }
    },
    {
      "cell_type": "code",
      "source": [
        "# Mount drive\n",
        "from google.colab import drive\n",
        "drive.mount('drive')"
      ],
      "metadata": {
        "colab": {
          "base_uri": "https://localhost:8080/"
        },
        "id": "0-TOrgmne61-",
        "outputId": "b655185b-b557-4e60-def1-989712394251"
      },
      "execution_count": null,
      "outputs": [
        {
          "output_type": "stream",
          "name": "stdout",
          "text": [
            "Mounted at drive\n"
          ]
        }
      ]
    },
    {
      "cell_type": "code",
      "execution_count": null,
      "metadata": {
        "id": "rwu6D6ylEePW"
      },
      "outputs": [],
      "source": [
        "# Include req libraries\n",
        "from keras.models import Sequential\n",
        "from keras.layers import Dense, Dropout, LSTM\n",
        "from keras.optimizers import RMSprop\n",
        "from matplotlib import pyplot as plt\n",
        "import numpy as np\n",
        "import random\n",
        "import sys"
      ]
    },
    {
      "cell_type": "code",
      "source": [
        "# Read and open the file from G-drive\n",
        "filename = \"/content/drive/MyDrive/Predict_Next_Word/236-0.txt\"\n",
        "text = open(filename, 'r').read()\n",
        "\n",
        "# Convert all character to lower case, it will help to train model more effectively\n",
        "text = text.lower()"
      ],
      "metadata": {
        "id": "K-JLglXWe68j"
      },
      "execution_count": null,
      "outputs": []
    },
    {
      "cell_type": "code",
      "source": [
        "# Add spaces where we have digits in text\n",
        "text = ''.join(c for c in text if not c.isdigit())\n",
        "\n",
        "# Get all distict character from text for labeling\n",
        "chars = sorted(list(set(text)))\n",
        "\n",
        "# give numeric value to all distict char\n",
        "char_to_int = dict((c, i) for i, c in enumerate(chars))\n",
        "\n",
        "# We need to reverse incase we want to predict char from int\n",
        "int_to_char = dict((i, c) for i, c in enumerate(chars))\n",
        "\n",
        "# summarize the data\n",
        "n_chars = len(text)\n",
        "n_vocab = len(chars)\n",
        "print(\"Total Characters in the text: \", n_chars)\n",
        "print(\"Total Vocab: \", n_vocab)"
      ],
      "metadata": {
        "colab": {
          "base_uri": "https://localhost:8080/"
        },
        "id": "tbCfKW6ubvmp",
        "outputId": "033f5416-3707-41e0-baac-f1ed27bcd011"
      },
      "execution_count": null,
      "outputs": [
        {
          "output_type": "stream",
          "name": "stdout",
          "text": [
            "Total Characters in the text:  292870\n",
            "Total Vocab:  51\n"
          ]
        }
      ]
    },
    {
      "cell_type": "code",
      "source": [
        "# Now it's time to squence out our data. we define some values and pass it in our loop\n",
        "seq_length = 60  \n",
        "step = 10   \n",
        "sentences = [] \n",
        "next_chars = []\n",
        "\n",
        "# so here we are passing sentences having 60 char with coorespond one char\n",
        "# And we jump our loop to 10 step forward in our seq\n",
        "for i in range(0, n_chars - seq_length, step): \n",
        "  sentences.append(text[i: i + seq_length])  \n",
        "  next_chars.append(text[i + seq_length]) \n",
        "  n_patterns = len(sentences)   \n",
        "\n",
        "print('Number of sequences:', n_patterns)"
      ],
      "metadata": {
        "colab": {
          "base_uri": "https://localhost:8080/"
        },
        "id": "3SEiUYLX6oq5",
        "outputId": "98373d84-8ff3-4188-873d-2e903d49b475"
      },
      "execution_count": null,
      "outputs": [
        {
          "output_type": "stream",
          "name": "stdout",
          "text": [
            "Number of sequences: 29281\n"
          ]
        }
      ]
    },
    {
      "cell_type": "code",
      "source": [
        "# So till now we have data in char or in list so we need to perform vectorization and pass bool data to our model\n",
        "x = np.zeros((len(sentences), seq_length, n_vocab), dtype=np.bool)\n",
        "y = np.zeros((len(sentences), n_vocab), dtype=np.bool)\n",
        "for i, sentence in enumerate(sentences):\n",
        "    for t, char in enumerate(sentence):\n",
        "        x[i, t, char_to_int[char]] = 1\n",
        "    y[i, char_to_int[next_chars[i]]] = 1\n",
        "    \n",
        "print(x.shape)\n",
        "print(y.shape)"
      ],
      "metadata": {
        "colab": {
          "base_uri": "https://localhost:8080/"
        },
        "id": "8Y_o4VGR60J_",
        "outputId": "76feb54c-1f5f-4575-eb16-14428eed69a0"
      },
      "execution_count": null,
      "outputs": [
        {
          "output_type": "stream",
          "name": "stderr",
          "text": [
            "<ipython-input-6-62bb982cf9bf>:2: DeprecationWarning: `np.bool` is a deprecated alias for the builtin `bool`. To silence this warning, use `bool` by itself. Doing this will not modify any behavior and is safe. If you specifically wanted the numpy scalar type, use `np.bool_` here.\n",
            "Deprecated in NumPy 1.20; for more details and guidance: https://numpy.org/devdocs/release/1.20.0-notes.html#deprecations\n",
            "  x = np.zeros((len(sentences), seq_length, n_vocab), dtype=np.bool)\n",
            "<ipython-input-6-62bb982cf9bf>:3: DeprecationWarning: `np.bool` is a deprecated alias for the builtin `bool`. To silence this warning, use `bool` by itself. Doing this will not modify any behavior and is safe. If you specifically wanted the numpy scalar type, use `np.bool_` here.\n",
            "Deprecated in NumPy 1.20; for more details and guidance: https://numpy.org/devdocs/release/1.20.0-notes.html#deprecations\n",
            "  y = np.zeros((len(sentences), n_vocab), dtype=np.bool)\n"
          ]
        },
        {
          "output_type": "stream",
          "name": "stdout",
          "text": [
            "(29281, 60, 51)\n",
            "(29281, 51)\n"
          ]
        }
      ]
    },
    {
      "cell_type": "code",
      "source": [
        "# Here we have sequential model with lstm and dense layers\n",
        "model = Sequential()\n",
        "model.add(LSTM(128, input_shape=(seq_length, n_vocab)))\n",
        "#model.add(Dropout(0.2))\n",
        "#model.add(LSTM(128))\n",
        "#model.add(Dropout(0.2))\n",
        "model.add(Dense(n_vocab, activation='softmax'))\n",
        "\n",
        "optimizer = RMSprop(lr=0.01)\n",
        "model.compile(loss='categorical_crossentropy', optimizer=optimizer)\n",
        "model.summary()"
      ],
      "metadata": {
        "colab": {
          "base_uri": "https://localhost:8080/"
        },
        "id": "_gdoGgTQ68pz",
        "outputId": "393f85f2-4456-4f03-8d96-79a4a79de532"
      },
      "execution_count": null,
      "outputs": [
        {
          "output_type": "stream",
          "name": "stdout",
          "text": [
            "Model: \"sequential_3\"\n",
            "_________________________________________________________________\n",
            " Layer (type)                Output Shape              Param #   \n",
            "=================================================================\n",
            " lstm_5 (LSTM)               (None, 128)               92160     \n",
            "                                                                 \n",
            " dense_2 (Dense)             (None, 51)                6579      \n",
            "                                                                 \n",
            "=================================================================\n",
            "Total params: 98,739\n",
            "Trainable params: 98,739\n",
            "Non-trainable params: 0\n",
            "_________________________________________________________________\n"
          ]
        }
      ]
    },
    {
      "cell_type": "code",
      "source": [
        "# In order to save model and weights, as long as our model is improving\n",
        "from keras.callbacks import ModelCheckpoint\n",
        "\n",
        "filepath=\"/content/drive/MyDrive/Predict_Next_Word/saved_weights-{epoch:02d}-{loss:.4f}.hdf5\"\n",
        "checkpoint = ModelCheckpoint(filepath, monitor='loss', verbose=1, save_best_only=True, mode='min')\n",
        "\n",
        "callbacks_list = [checkpoint]"
      ],
      "metadata": {
        "id": "7P3aCyy57B_8"
      },
      "execution_count": null,
      "outputs": []
    },
    {
      "cell_type": "code",
      "source": [
        "history = model.fit(x, y,\n",
        "          batch_size=128,\n",
        "          epochs=50,   \n",
        "          callbacks=callbacks_list)"
      ],
      "metadata": {
        "colab": {
          "base_uri": "https://localhost:8080/"
        },
        "id": "IZVyGcER7QId",
        "outputId": "03e16d1e-7ed4-4599-c73c-15fb73ba5b1b"
      },
      "execution_count": null,
      "outputs": [
        {
          "output_type": "stream",
          "name": "stdout",
          "text": [
            "Epoch 1/50\n",
            "229/229 [==============================] - ETA: 0s - loss: 2.5240\n",
            "Epoch 1: loss improved from inf to 2.52401, saving model to /content/drive/MyDrive/Predict_Next_Word/saved_weights-01-2.5240.hdf5\n",
            "229/229 [==============================] - 27s 110ms/step - loss: 2.5240\n",
            "Epoch 2/50\n",
            "229/229 [==============================] - ETA: 0s - loss: 2.0580\n",
            "Epoch 2: loss improved from 2.52401 to 2.05801, saving model to /content/drive/MyDrive/Predict_Next_Word/saved_weights-02-2.0580.hdf5\n",
            "229/229 [==============================] - 25s 110ms/step - loss: 2.0580\n",
            "Epoch 3/50\n",
            "229/229 [==============================] - ETA: 0s - loss: 1.8674\n",
            "Epoch 3: loss improved from 2.05801 to 1.86737, saving model to /content/drive/MyDrive/Predict_Next_Word/saved_weights-03-1.8674.hdf5\n",
            "229/229 [==============================] - 25s 110ms/step - loss: 1.8674\n",
            "Epoch 4/50\n",
            "229/229 [==============================] - ETA: 0s - loss: 1.7376\n",
            "Epoch 4: loss improved from 1.86737 to 1.73755, saving model to /content/drive/MyDrive/Predict_Next_Word/saved_weights-04-1.7376.hdf5\n",
            "229/229 [==============================] - 25s 110ms/step - loss: 1.7376\n",
            "Epoch 5/50\n",
            "229/229 [==============================] - ETA: 0s - loss: 1.6133\n",
            "Epoch 5: loss improved from 1.73755 to 1.61328, saving model to /content/drive/MyDrive/Predict_Next_Word/saved_weights-05-1.6133.hdf5\n",
            "229/229 [==============================] - 25s 109ms/step - loss: 1.6133\n",
            "Epoch 6/50\n",
            "229/229 [==============================] - ETA: 0s - loss: 1.5050\n",
            "Epoch 6: loss improved from 1.61328 to 1.50501, saving model to /content/drive/MyDrive/Predict_Next_Word/saved_weights-06-1.5050.hdf5\n",
            "229/229 [==============================] - 25s 109ms/step - loss: 1.5050\n",
            "Epoch 7/50\n",
            "229/229 [==============================] - ETA: 0s - loss: 1.4089\n",
            "Epoch 7: loss improved from 1.50501 to 1.40889, saving model to /content/drive/MyDrive/Predict_Next_Word/saved_weights-07-1.4089.hdf5\n",
            "229/229 [==============================] - 26s 114ms/step - loss: 1.4089\n",
            "Epoch 8/50\n",
            "229/229 [==============================] - ETA: 0s - loss: 1.3179\n",
            "Epoch 8: loss improved from 1.40889 to 1.31786, saving model to /content/drive/MyDrive/Predict_Next_Word/saved_weights-08-1.3179.hdf5\n",
            "229/229 [==============================] - 25s 110ms/step - loss: 1.3179\n",
            "Epoch 9/50\n",
            "229/229 [==============================] - ETA: 0s - loss: 1.2435\n",
            "Epoch 9: loss improved from 1.31786 to 1.24355, saving model to /content/drive/MyDrive/Predict_Next_Word/saved_weights-09-1.2435.hdf5\n",
            "229/229 [==============================] - 25s 109ms/step - loss: 1.2435\n",
            "Epoch 10/50\n",
            "229/229 [==============================] - ETA: 0s - loss: 1.1788\n",
            "Epoch 10: loss improved from 1.24355 to 1.17884, saving model to /content/drive/MyDrive/Predict_Next_Word/saved_weights-10-1.1788.hdf5\n",
            "229/229 [==============================] - 25s 109ms/step - loss: 1.1788\n",
            "Epoch 11/50\n",
            "229/229 [==============================] - ETA: 0s - loss: 1.1288\n",
            "Epoch 11: loss improved from 1.17884 to 1.12882, saving model to /content/drive/MyDrive/Predict_Next_Word/saved_weights-11-1.1288.hdf5\n",
            "229/229 [==============================] - 25s 109ms/step - loss: 1.1288\n",
            "Epoch 12/50\n",
            "229/229 [==============================] - ETA: 0s - loss: 1.0927\n",
            "Epoch 12: loss improved from 1.12882 to 1.09266, saving model to /content/drive/MyDrive/Predict_Next_Word/saved_weights-12-1.0927.hdf5\n",
            "229/229 [==============================] - 25s 109ms/step - loss: 1.0927\n",
            "Epoch 13/50\n",
            "229/229 [==============================] - ETA: 0s - loss: 1.0495\n",
            "Epoch 13: loss improved from 1.09266 to 1.04948, saving model to /content/drive/MyDrive/Predict_Next_Word/saved_weights-13-1.0495.hdf5\n",
            "229/229 [==============================] - 25s 109ms/step - loss: 1.0495\n",
            "Epoch 14/50\n",
            "229/229 [==============================] - ETA: 0s - loss: 1.0226\n",
            "Epoch 14: loss improved from 1.04948 to 1.02263, saving model to /content/drive/MyDrive/Predict_Next_Word/saved_weights-14-1.0226.hdf5\n",
            "229/229 [==============================] - 26s 113ms/step - loss: 1.0226\n",
            "Epoch 15/50\n",
            "229/229 [==============================] - ETA: 0s - loss: 0.9947\n",
            "Epoch 15: loss improved from 1.02263 to 0.99470, saving model to /content/drive/MyDrive/Predict_Next_Word/saved_weights-15-0.9947.hdf5\n",
            "229/229 [==============================] - 25s 109ms/step - loss: 0.9947\n",
            "Epoch 16/50\n",
            "229/229 [==============================] - ETA: 0s - loss: 0.9788\n",
            "Epoch 16: loss improved from 0.99470 to 0.97885, saving model to /content/drive/MyDrive/Predict_Next_Word/saved_weights-16-0.9788.hdf5\n",
            "229/229 [==============================] - 25s 110ms/step - loss: 0.9788\n",
            "Epoch 17/50\n",
            "229/229 [==============================] - ETA: 0s - loss: 0.9529\n",
            "Epoch 17: loss improved from 0.97885 to 0.95289, saving model to /content/drive/MyDrive/Predict_Next_Word/saved_weights-17-0.9529.hdf5\n",
            "229/229 [==============================] - 25s 110ms/step - loss: 0.9529\n",
            "Epoch 18/50\n",
            "229/229 [==============================] - ETA: 0s - loss: 0.9364\n",
            "Epoch 18: loss improved from 0.95289 to 0.93638, saving model to /content/drive/MyDrive/Predict_Next_Word/saved_weights-18-0.9364.hdf5\n",
            "229/229 [==============================] - 25s 110ms/step - loss: 0.9364\n",
            "Epoch 19/50\n",
            "229/229 [==============================] - ETA: 0s - loss: 0.9230\n",
            "Epoch 19: loss improved from 0.93638 to 0.92304, saving model to /content/drive/MyDrive/Predict_Next_Word/saved_weights-19-0.9230.hdf5\n",
            "229/229 [==============================] - 25s 110ms/step - loss: 0.9230\n",
            "Epoch 20/50\n",
            "229/229 [==============================] - ETA: 0s - loss: 0.9112\n",
            "Epoch 20: loss improved from 0.92304 to 0.91124, saving model to /content/drive/MyDrive/Predict_Next_Word/saved_weights-20-0.9112.hdf5\n",
            "229/229 [==============================] - 25s 110ms/step - loss: 0.9112\n",
            "Epoch 21/50\n",
            "229/229 [==============================] - ETA: 0s - loss: 0.8938\n",
            "Epoch 21: loss improved from 0.91124 to 0.89377, saving model to /content/drive/MyDrive/Predict_Next_Word/saved_weights-21-0.8938.hdf5\n",
            "229/229 [==============================] - 26s 115ms/step - loss: 0.8938\n",
            "Epoch 22/50\n",
            "229/229 [==============================] - ETA: 0s - loss: 0.8822\n",
            "Epoch 22: loss improved from 0.89377 to 0.88224, saving model to /content/drive/MyDrive/Predict_Next_Word/saved_weights-22-0.8822.hdf5\n",
            "229/229 [==============================] - 25s 109ms/step - loss: 0.8822\n",
            "Epoch 23/50\n",
            "229/229 [==============================] - ETA: 0s - loss: 0.8714\n",
            "Epoch 23: loss improved from 0.88224 to 0.87141, saving model to /content/drive/MyDrive/Predict_Next_Word/saved_weights-23-0.8714.hdf5\n",
            "229/229 [==============================] - 25s 110ms/step - loss: 0.8714\n",
            "Epoch 24/50\n",
            "229/229 [==============================] - ETA: 0s - loss: 0.8628\n",
            "Epoch 24: loss improved from 0.87141 to 0.86284, saving model to /content/drive/MyDrive/Predict_Next_Word/saved_weights-24-0.8628.hdf5\n",
            "229/229 [==============================] - 25s 109ms/step - loss: 0.8628\n",
            "Epoch 25/50\n",
            "229/229 [==============================] - ETA: 0s - loss: 0.8443\n",
            "Epoch 25: loss improved from 0.86284 to 0.84434, saving model to /content/drive/MyDrive/Predict_Next_Word/saved_weights-25-0.8443.hdf5\n",
            "229/229 [==============================] - 25s 110ms/step - loss: 0.8443\n",
            "Epoch 26/50\n",
            "229/229 [==============================] - ETA: 0s - loss: 0.8326\n",
            "Epoch 26: loss improved from 0.84434 to 0.83259, saving model to /content/drive/MyDrive/Predict_Next_Word/saved_weights-26-0.8326.hdf5\n",
            "229/229 [==============================] - 25s 110ms/step - loss: 0.8326\n",
            "Epoch 27/50\n",
            "229/229 [==============================] - ETA: 0s - loss: 0.8257\n",
            "Epoch 27: loss improved from 0.83259 to 0.82567, saving model to /content/drive/MyDrive/Predict_Next_Word/saved_weights-27-0.8257.hdf5\n",
            "229/229 [==============================] - 25s 110ms/step - loss: 0.8257\n",
            "Epoch 28/50\n",
            "229/229 [==============================] - ETA: 0s - loss: 0.8140\n",
            "Epoch 28: loss improved from 0.82567 to 0.81398, saving model to /content/drive/MyDrive/Predict_Next_Word/saved_weights-28-0.8140.hdf5\n",
            "229/229 [==============================] - 26s 114ms/step - loss: 0.8140\n",
            "Epoch 29/50\n",
            "229/229 [==============================] - ETA: 0s - loss: 0.7966\n",
            "Epoch 29: loss improved from 0.81398 to 0.79665, saving model to /content/drive/MyDrive/Predict_Next_Word/saved_weights-29-0.7966.hdf5\n",
            "229/229 [==============================] - 25s 110ms/step - loss: 0.7966\n",
            "Epoch 30/50\n",
            "229/229 [==============================] - ETA: 0s - loss: 0.7927\n",
            "Epoch 30: loss improved from 0.79665 to 0.79267, saving model to /content/drive/MyDrive/Predict_Next_Word/saved_weights-30-0.7927.hdf5\n",
            "229/229 [==============================] - 25s 110ms/step - loss: 0.7927\n",
            "Epoch 31/50\n",
            "229/229 [==============================] - ETA: 0s - loss: 0.7791\n",
            "Epoch 31: loss improved from 0.79267 to 0.77913, saving model to /content/drive/MyDrive/Predict_Next_Word/saved_weights-31-0.7791.hdf5\n",
            "229/229 [==============================] - 25s 110ms/step - loss: 0.7791\n",
            "Epoch 32/50\n",
            "229/229 [==============================] - ETA: 0s - loss: 0.7700\n",
            "Epoch 32: loss improved from 0.77913 to 0.76997, saving model to /content/drive/MyDrive/Predict_Next_Word/saved_weights-32-0.7700.hdf5\n",
            "229/229 [==============================] - 25s 110ms/step - loss: 0.7700\n",
            "Epoch 33/50\n",
            "229/229 [==============================] - ETA: 0s - loss: 0.7615\n",
            "Epoch 33: loss improved from 0.76997 to 0.76146, saving model to /content/drive/MyDrive/Predict_Next_Word/saved_weights-33-0.7615.hdf5\n",
            "229/229 [==============================] - 26s 112ms/step - loss: 0.7615\n",
            "Epoch 34/50\n",
            "229/229 [==============================] - ETA: 0s - loss: 0.7536\n",
            "Epoch 34: loss improved from 0.76146 to 0.75357, saving model to /content/drive/MyDrive/Predict_Next_Word/saved_weights-34-0.7536.hdf5\n",
            "229/229 [==============================] - 25s 110ms/step - loss: 0.7536\n",
            "Epoch 35/50\n",
            "229/229 [==============================] - ETA: 0s - loss: 0.7463\n",
            "Epoch 35: loss improved from 0.75357 to 0.74632, saving model to /content/drive/MyDrive/Predict_Next_Word/saved_weights-35-0.7463.hdf5\n",
            "229/229 [==============================] - 27s 116ms/step - loss: 0.7463\n",
            "Epoch 36/50\n",
            "229/229 [==============================] - ETA: 0s - loss: 0.7471\n",
            "Epoch 36: loss did not improve from 0.74632\n",
            "229/229 [==============================] - 25s 110ms/step - loss: 0.7471\n",
            "Epoch 37/50\n",
            "229/229 [==============================] - ETA: 0s - loss: 0.7316\n",
            "Epoch 37: loss improved from 0.74632 to 0.73164, saving model to /content/drive/MyDrive/Predict_Next_Word/saved_weights-37-0.7316.hdf5\n",
            "229/229 [==============================] - 25s 110ms/step - loss: 0.7316\n",
            "Epoch 38/50\n",
            "229/229 [==============================] - ETA: 0s - loss: 0.7295\n",
            "Epoch 38: loss improved from 0.73164 to 0.72954, saving model to /content/drive/MyDrive/Predict_Next_Word/saved_weights-38-0.7295.hdf5\n",
            "229/229 [==============================] - 27s 120ms/step - loss: 0.7295\n",
            "Epoch 39/50\n",
            "229/229 [==============================] - ETA: 0s - loss: 0.7098\n",
            "Epoch 39: loss improved from 0.72954 to 0.70981, saving model to /content/drive/MyDrive/Predict_Next_Word/saved_weights-39-0.7098.hdf5\n",
            "229/229 [==============================] - 26s 113ms/step - loss: 0.7098\n",
            "Epoch 40/50\n",
            "229/229 [==============================] - ETA: 0s - loss: 0.7064\n",
            "Epoch 40: loss improved from 0.70981 to 0.70637, saving model to /content/drive/MyDrive/Predict_Next_Word/saved_weights-40-0.7064.hdf5\n",
            "229/229 [==============================] - 27s 116ms/step - loss: 0.7064\n",
            "Epoch 41/50\n",
            "229/229 [==============================] - ETA: 0s - loss: 0.7078\n",
            "Epoch 41: loss did not improve from 0.70637\n",
            "229/229 [==============================] - 26s 115ms/step - loss: 0.7078\n",
            "Epoch 42/50\n",
            "229/229 [==============================] - ETA: 0s - loss: 0.6977\n",
            "Epoch 42: loss improved from 0.70637 to 0.69772, saving model to /content/drive/MyDrive/Predict_Next_Word/saved_weights-42-0.6977.hdf5\n",
            "229/229 [==============================] - 28s 122ms/step - loss: 0.6977\n",
            "Epoch 43/50\n",
            "229/229 [==============================] - ETA: 0s - loss: 0.6873\n",
            "Epoch 43: loss improved from 0.69772 to 0.68730, saving model to /content/drive/MyDrive/Predict_Next_Word/saved_weights-43-0.6873.hdf5\n",
            "229/229 [==============================] - 26s 113ms/step - loss: 0.6873\n",
            "Epoch 44/50\n",
            "229/229 [==============================] - ETA: 0s - loss: 0.6798\n",
            "Epoch 44: loss improved from 0.68730 to 0.67982, saving model to /content/drive/MyDrive/Predict_Next_Word/saved_weights-44-0.6798.hdf5\n",
            "229/229 [==============================] - 26s 113ms/step - loss: 0.6798\n",
            "Epoch 45/50\n",
            "229/229 [==============================] - ETA: 0s - loss: 0.6626\n",
            "Epoch 45: loss improved from 0.67982 to 0.66261, saving model to /content/drive/MyDrive/Predict_Next_Word/saved_weights-45-0.6626.hdf5\n",
            "229/229 [==============================] - 26s 112ms/step - loss: 0.6626\n",
            "Epoch 46/50\n",
            "229/229 [==============================] - ETA: 0s - loss: 0.6540\n",
            "Epoch 46: loss improved from 0.66261 to 0.65403, saving model to /content/drive/MyDrive/Predict_Next_Word/saved_weights-46-0.6540.hdf5\n",
            "229/229 [==============================] - 29s 125ms/step - loss: 0.6540\n",
            "Epoch 47/50\n",
            "229/229 [==============================] - ETA: 0s - loss: 0.6512\n",
            "Epoch 47: loss improved from 0.65403 to 0.65115, saving model to /content/drive/MyDrive/Predict_Next_Word/saved_weights-47-0.6512.hdf5\n",
            "229/229 [==============================] - 27s 120ms/step - loss: 0.6512\n",
            "Epoch 48/50\n",
            "229/229 [==============================] - ETA: 0s - loss: 0.6418\n",
            "Epoch 48: loss improved from 0.65115 to 0.64177, saving model to /content/drive/MyDrive/Predict_Next_Word/saved_weights-48-0.6418.hdf5\n",
            "229/229 [==============================] - 27s 118ms/step - loss: 0.6418\n",
            "Epoch 49/50\n",
            "229/229 [==============================] - ETA: 0s - loss: 0.6387\n",
            "Epoch 49: loss improved from 0.64177 to 0.63873, saving model to /content/drive/MyDrive/Predict_Next_Word/saved_weights-49-0.6387.hdf5\n",
            "229/229 [==============================] - 26s 112ms/step - loss: 0.6387\n",
            "Epoch 50/50\n",
            "229/229 [==============================] - ETA: 0s - loss: 0.6280\n",
            "Epoch 50: loss improved from 0.63873 to 0.62796, saving model to /content/drive/MyDrive/Predict_Next_Word/saved_weights-50-0.6280.hdf5\n",
            "229/229 [==============================] - 27s 120ms/step - loss: 0.6280\n"
          ]
        }
      ]
    },
    {
      "cell_type": "code",
      "source": [
        "# Save and load the model\n",
        "filename = \"/content/drive/MyDrive/Predict_Next_Word/Forcaste/my_saved_weights_50epochs.h5\"\n",
        "model.save(filename)\n",
        "model.load_weights(filename)"
      ],
      "metadata": {
        "id": "651CN8D_7cFf"
      },
      "execution_count": null,
      "outputs": []
    },
    {
      "cell_type": "markdown",
      "source": [
        "<b>Result & Evaluation</b>"
      ],
      "metadata": {
        "id": "4W_CaQ_23BZ6"
      }
    },
    {
      "cell_type": "code",
      "source": [
        "#plot the training loss at each epoch\n",
        "loss = history.history['loss']\n",
        "epochs = range(1, len(loss) + 1)\n",
        "plt.plot(epochs, loss, 'y', label='Training loss')\n",
        "plt.title('Training loss')\n",
        "plt.xlabel('Epochs')\n",
        "plt.ylabel('Loss')\n",
        "plt.legend()\n",
        "plt.show()"
      ],
      "metadata": {
        "colab": {
          "base_uri": "https://localhost:8080/",
          "height": 295
        },
        "id": "8DASQElw7UIz",
        "outputId": "196abb4b-86b1-48d4-a3ea-16172ad58df5"
      },
      "execution_count": null,
      "outputs": [
        {
          "output_type": "display_data",
          "data": {
            "text/plain": [
              "<Figure size 432x288 with 1 Axes>"
            ],
            "image/png": "[encoded data removed]"
          },
          "metadata": {
            "needs_background": "light"
          }
        }
      ]
    },
    {
      "cell_type": "code",
      "source": [
        "# Write the function which get most probably char out of 51 \n",
        "def most_probable_char(preds):\n",
        "    preds = np.asarray(preds).astype('float64')\n",
        "    preds = np.log(preds)\n",
        "    exp_preds = np.exp(preds) #exp of log (x), isn't this same as x??\n",
        "    preds = exp_preds / np.sum(exp_preds)\n",
        "    probas = np.random.multinomial(1, preds, 1) \n",
        "    return np.argmax(probas)"
      ],
      "metadata": {
        "id": "_n0IqTzS3b7D"
      },
      "execution_count": null,
      "outputs": []
    },
    {
      "cell_type": "code",
      "source": [
        "# Pick a random sentence from the text.\n",
        "generated = ''\n",
        "start_index = random.randint(0, n_chars - seq_length - 1)\n",
        "sentence = text[start_index: start_index + seq_length]\n",
        "generated += sentence\n",
        "\n",
        "print('Text for our prediction: \"' + sentence + '\"')"
      ],
      "metadata": {
        "colab": {
          "base_uri": "https://localhost:8080/"
        },
        "id": "q73FoIxc6Tj4",
        "outputId": "57d59f6c-7905-4be6-d3fa-d8a098c47724"
      },
      "execution_count": null,
      "outputs": [
        {
          "output_type": "stream",
          "name": "stdout",
          "text": [
            "Text for our prediction: \"stupid tuft of feathers!” said rikki-tikki angrily. “is this\"\n"
          ]
        }
      ]
    },
    {
      "cell_type": "code",
      "source": [
        "#Loop for next 20 char including spaces\n",
        "for i in range(20):  \n",
        "    x_pred = np.zeros((1, seq_length, n_vocab))\n",
        "    for t, char in enumerate(sentence):\n",
        "        x_pred[0, t, char_to_int[char]] = 1.\n",
        "\n",
        "    preds = model.predict(x_pred, verbose=0)[0]\n",
        "    next_index = most_probable_char(preds)\n",
        "    next_char = int_to_char[next_index]\n",
        "\n",
        "    generated += next_char\n",
        "    sentence = sentence[1:] + next_char\n",
        "\n",
        "print(generated)"
      ],
      "metadata": {
        "id": "UJ3QcYQJEQJL",
        "colab": {
          "base_uri": "https://localhost:8080/"
        },
        "outputId": "e2e40d4b-0278-4db4-8780-ffac49f44c8c"
      },
      "execution_count": null,
      "outputs": [
        {
          "output_type": "stream",
          "name": "stdout",
          "text": [
            "stupid tuft of feathers!” said rikki-tikki angrily. “is this shoulders it a been\n"
          ]
        }
      ]
    },
    {
      "cell_type": "markdown",
      "source": [
        "!!! END"
      ],
      "metadata": {
        "id": "ZPkFd82c44jR"
      }
    }
  ]
}